{
 "cells": [
  {
   "cell_type": "code",
   "execution_count": 2,
   "metadata": {},
   "outputs": [],
   "source": [
    "#importing libraries\n",
    "import pandas as pd\n",
    "import matplotlib.pyplot as plt\n",
    "import numpy as np"
   ]
  },
  {
   "cell_type": "code",
   "execution_count": 9,
   "metadata": {},
   "outputs": [
    {
     "data": {
      "text/html": [
       "<div>\n",
       "<style scoped>\n",
       "    .dataframe tbody tr th:only-of-type {\n",
       "        vertical-align: middle;\n",
       "    }\n",
       "\n",
       "    .dataframe tbody tr th {\n",
       "        vertical-align: top;\n",
       "    }\n",
       "\n",
       "    .dataframe thead th {\n",
       "        text-align: right;\n",
       "    }\n",
       "</style>\n",
       "<table border=\"1\" class=\"dataframe\">\n",
       "  <thead>\n",
       "    <tr style=\"text-align: right;\">\n",
       "      <th></th>\n",
       "      <th>buying</th>\n",
       "      <th>maint</th>\n",
       "      <th>doors</th>\n",
       "      <th>persons</th>\n",
       "      <th>lug_boot</th>\n",
       "      <th>safety</th>\n",
       "      <th>class</th>\n",
       "    </tr>\n",
       "  </thead>\n",
       "  <tbody>\n",
       "    <tr>\n",
       "      <th>0</th>\n",
       "      <td>vhigh</td>\n",
       "      <td>vhigh</td>\n",
       "      <td>2</td>\n",
       "      <td>2</td>\n",
       "      <td>small</td>\n",
       "      <td>med</td>\n",
       "      <td>unacc</td>\n",
       "    </tr>\n",
       "    <tr>\n",
       "      <th>1</th>\n",
       "      <td>vhigh</td>\n",
       "      <td>vhigh</td>\n",
       "      <td>2</td>\n",
       "      <td>2</td>\n",
       "      <td>small</td>\n",
       "      <td>high</td>\n",
       "      <td>unacc</td>\n",
       "    </tr>\n",
       "    <tr>\n",
       "      <th>2</th>\n",
       "      <td>vhigh</td>\n",
       "      <td>vhigh</td>\n",
       "      <td>2</td>\n",
       "      <td>2</td>\n",
       "      <td>med</td>\n",
       "      <td>low</td>\n",
       "      <td>unacc</td>\n",
       "    </tr>\n",
       "    <tr>\n",
       "      <th>3</th>\n",
       "      <td>vhigh</td>\n",
       "      <td>vhigh</td>\n",
       "      <td>2</td>\n",
       "      <td>2</td>\n",
       "      <td>med</td>\n",
       "      <td>med</td>\n",
       "      <td>unacc</td>\n",
       "    </tr>\n",
       "    <tr>\n",
       "      <th>4</th>\n",
       "      <td>vhigh</td>\n",
       "      <td>vhigh</td>\n",
       "      <td>2</td>\n",
       "      <td>2</td>\n",
       "      <td>med</td>\n",
       "      <td>high</td>\n",
       "      <td>unacc</td>\n",
       "    </tr>\n",
       "  </tbody>\n",
       "</table>\n",
       "</div>"
      ],
      "text/plain": [
       "  buying  maint doors persons lug_boot safety  class\n",
       "0  vhigh  vhigh     2       2    small    med  unacc\n",
       "1  vhigh  vhigh     2       2    small   high  unacc\n",
       "2  vhigh  vhigh     2       2      med    low  unacc\n",
       "3  vhigh  vhigh     2       2      med    med  unacc\n",
       "4  vhigh  vhigh     2       2      med   high  unacc"
      ]
     },
     "execution_count": 9,
     "metadata": {},
     "output_type": "execute_result"
    }
   ],
   "source": [
    "#importing dataset\n",
    "df = pd.read_csv('car_evaluation.csv')\n",
    "col_names =['buying', 'maint', 'doors', 'persons', 'lug_boot', 'safety', 'class']\n",
    "df.columns = col_names\n",
    "df.head()"
   ]
  },
  {
   "cell_type": "code",
   "execution_count": 5,
   "metadata": {},
   "outputs": [
    {
     "data": {
      "text/plain": [
       "1727"
      ]
     },
     "execution_count": 5,
     "metadata": {},
     "output_type": "execute_result"
    }
   ],
   "source": [
    "len(df)"
   ]
  },
  {
   "cell_type": "code",
   "execution_count": 10,
   "metadata": {
    "scrolled": true
   },
   "outputs": [
    {
     "data": {
      "text/html": [
       "<div>\n",
       "<style scoped>\n",
       "    .dataframe tbody tr th:only-of-type {\n",
       "        vertical-align: middle;\n",
       "    }\n",
       "\n",
       "    .dataframe tbody tr th {\n",
       "        vertical-align: top;\n",
       "    }\n",
       "\n",
       "    .dataframe thead th {\n",
       "        text-align: right;\n",
       "    }\n",
       "</style>\n",
       "<table border=\"1\" class=\"dataframe\">\n",
       "  <thead>\n",
       "    <tr style=\"text-align: right;\">\n",
       "      <th></th>\n",
       "      <th>buying</th>\n",
       "      <th>maint</th>\n",
       "      <th>doors</th>\n",
       "      <th>persons</th>\n",
       "      <th>lug_boot</th>\n",
       "      <th>safety</th>\n",
       "      <th>class</th>\n",
       "    </tr>\n",
       "  </thead>\n",
       "  <tbody>\n",
       "    <tr>\n",
       "      <th>count</th>\n",
       "      <td>1727</td>\n",
       "      <td>1727</td>\n",
       "      <td>1727</td>\n",
       "      <td>1727</td>\n",
       "      <td>1727</td>\n",
       "      <td>1727</td>\n",
       "      <td>1727</td>\n",
       "    </tr>\n",
       "    <tr>\n",
       "      <th>unique</th>\n",
       "      <td>4</td>\n",
       "      <td>4</td>\n",
       "      <td>4</td>\n",
       "      <td>3</td>\n",
       "      <td>3</td>\n",
       "      <td>3</td>\n",
       "      <td>4</td>\n",
       "    </tr>\n",
       "    <tr>\n",
       "      <th>top</th>\n",
       "      <td>high</td>\n",
       "      <td>high</td>\n",
       "      <td>3</td>\n",
       "      <td>more</td>\n",
       "      <td>med</td>\n",
       "      <td>high</td>\n",
       "      <td>unacc</td>\n",
       "    </tr>\n",
       "    <tr>\n",
       "      <th>freq</th>\n",
       "      <td>432</td>\n",
       "      <td>432</td>\n",
       "      <td>432</td>\n",
       "      <td>576</td>\n",
       "      <td>576</td>\n",
       "      <td>576</td>\n",
       "      <td>1209</td>\n",
       "    </tr>\n",
       "  </tbody>\n",
       "</table>\n",
       "</div>"
      ],
      "text/plain": [
       "       buying maint doors persons lug_boot safety  class\n",
       "count    1727  1727  1727    1727     1727   1727   1727\n",
       "unique      4     4     4       3        3      3      4\n",
       "top      high  high     3    more      med   high  unacc\n",
       "freq      432   432   432     576      576    576   1209"
      ]
     },
     "execution_count": 10,
     "metadata": {},
     "output_type": "execute_result"
    }
   ],
   "source": [
    "df.describe()"
   ]
  },
  {
   "cell_type": "code",
   "execution_count": 11,
   "metadata": {},
   "outputs": [
    {
     "name": "stdout",
     "output_type": "stream",
     "text": [
      "high     432\n",
      "med      432\n",
      "low      432\n",
      "vhigh    431\n",
      "Name: buying, dtype: int64\n",
      "high     432\n",
      "med      432\n",
      "low      432\n",
      "vhigh    431\n",
      "Name: maint, dtype: int64\n",
      "3        432\n",
      "5more    432\n",
      "4        432\n",
      "2        431\n",
      "Name: doors, dtype: int64\n",
      "more    576\n",
      "4       576\n",
      "2       575\n",
      "Name: persons, dtype: int64\n",
      "med      576\n",
      "big      576\n",
      "small    575\n",
      "Name: lug_boot, dtype: int64\n",
      "high    576\n",
      "med     576\n",
      "low     575\n",
      "Name: safety, dtype: int64\n",
      "unacc    1209\n",
      "acc       384\n",
      "good       69\n",
      "vgood      65\n",
      "Name: class, dtype: int64\n"
     ]
    }
   ],
   "source": [
    "for col in col_names:\n",
    "    print(df[col].value_counts())"
   ]
  },
  {
   "cell_type": "code",
   "execution_count": 12,
   "metadata": {},
   "outputs": [
    {
     "data": {
      "text/plain": [
       "buying      0\n",
       "maint       0\n",
       "doors       0\n",
       "persons     0\n",
       "lug_boot    0\n",
       "safety      0\n",
       "class       0\n",
       "dtype: int64"
      ]
     },
     "execution_count": 12,
     "metadata": {},
     "output_type": "execute_result"
    }
   ],
   "source": [
    "df.isnull().sum()"
   ]
  },
  {
   "cell_type": "code",
   "execution_count": 28,
   "metadata": {},
   "outputs": [
    {
     "data": {
      "text/html": [
       "<div>\n",
       "<style scoped>\n",
       "    .dataframe tbody tr th:only-of-type {\n",
       "        vertical-align: middle;\n",
       "    }\n",
       "\n",
       "    .dataframe tbody tr th {\n",
       "        vertical-align: top;\n",
       "    }\n",
       "\n",
       "    .dataframe thead th {\n",
       "        text-align: right;\n",
       "    }\n",
       "</style>\n",
       "<table border=\"1\" class=\"dataframe\">\n",
       "  <thead>\n",
       "    <tr style=\"text-align: right;\">\n",
       "      <th></th>\n",
       "      <th>class</th>\n",
       "      <th>buying_</th>\n",
       "      <th>maint_</th>\n",
       "      <th>doors_</th>\n",
       "      <th>persons_</th>\n",
       "      <th>lug_boot_</th>\n",
       "      <th>safety_</th>\n",
       "    </tr>\n",
       "  </thead>\n",
       "  <tbody>\n",
       "    <tr>\n",
       "      <th>0</th>\n",
       "      <td>unacc</td>\n",
       "      <td>3</td>\n",
       "      <td>3</td>\n",
       "      <td>0</td>\n",
       "      <td>0</td>\n",
       "      <td>2</td>\n",
       "      <td>2</td>\n",
       "    </tr>\n",
       "    <tr>\n",
       "      <th>1</th>\n",
       "      <td>unacc</td>\n",
       "      <td>3</td>\n",
       "      <td>3</td>\n",
       "      <td>0</td>\n",
       "      <td>0</td>\n",
       "      <td>2</td>\n",
       "      <td>0</td>\n",
       "    </tr>\n",
       "    <tr>\n",
       "      <th>2</th>\n",
       "      <td>unacc</td>\n",
       "      <td>3</td>\n",
       "      <td>3</td>\n",
       "      <td>0</td>\n",
       "      <td>0</td>\n",
       "      <td>1</td>\n",
       "      <td>1</td>\n",
       "    </tr>\n",
       "    <tr>\n",
       "      <th>3</th>\n",
       "      <td>unacc</td>\n",
       "      <td>3</td>\n",
       "      <td>3</td>\n",
       "      <td>0</td>\n",
       "      <td>0</td>\n",
       "      <td>1</td>\n",
       "      <td>2</td>\n",
       "    </tr>\n",
       "    <tr>\n",
       "      <th>4</th>\n",
       "      <td>unacc</td>\n",
       "      <td>3</td>\n",
       "      <td>3</td>\n",
       "      <td>0</td>\n",
       "      <td>0</td>\n",
       "      <td>1</td>\n",
       "      <td>0</td>\n",
       "    </tr>\n",
       "  </tbody>\n",
       "</table>\n",
       "</div>"
      ],
      "text/plain": [
       "   class  buying_  maint_  doors_  persons_  lug_boot_  safety_\n",
       "0  unacc        3       3       0         0          2        2\n",
       "1  unacc        3       3       0         0          2        0\n",
       "2  unacc        3       3       0         0          1        1\n",
       "3  unacc        3       3       0         0          1        2\n",
       "4  unacc        3       3       0         0          1        0"
      ]
     },
     "execution_count": 28,
     "metadata": {},
     "output_type": "execute_result"
    }
   ],
   "source": [
    "#label encoding\n",
    "from sklearn.preprocessing import LabelEncoder\n",
    "le = LabelEncoder()\n",
    "df['buying_'] = le.fit_transform(df.buying)\n",
    "df['maint_'] = le.fit_transform(df.maint)\n",
    "df['doors_'] = le.fit_transform(df.doors)\n",
    "df['persons_'] = le.fit_transform(df.persons)\n",
    "df['lug_boot_'] = le.fit_transform(df.lug_boot)\n",
    "df['safety_'] = le.fit_transform(df.safety)\n",
    "df.drop(['buying', 'maint', 'doors', 'persons', 'lug_boot', 'safety'],inplace=True,axis=1)\n",
    "df.head()"
   ]
  },
  {
   "cell_type": "code",
   "execution_count": 30,
   "metadata": {},
   "outputs": [],
   "source": [
    "#creating input and target\n",
    "x = df.drop('class',axis=1)\n",
    "y=df['class']"
   ]
  },
  {
   "cell_type": "code",
   "execution_count": 52,
   "metadata": {},
   "outputs": [],
   "source": [
    "#splitting data into test and training\n",
    "from sklearn.model_selection import train_test_split\n",
    "X_train,X_test,y_train,y_test = train_test_split(x,y,test_size=0.3)"
   ]
  },
  {
   "cell_type": "code",
   "execution_count": 53,
   "metadata": {},
   "outputs": [
    {
     "data": {
      "text/plain": [
       "DecisionTreeClassifier(max_depth=7)"
      ]
     },
     "execution_count": 53,
     "metadata": {},
     "output_type": "execute_result"
    }
   ],
   "source": [
    "#fitting the model\n",
    "from sklearn.tree import DecisionTreeClassifier\n",
    "model = DecisionTreeClassifier(criterion='gini',max_depth=7)\n",
    "model.fit(X_train,y_train)"
   ]
  },
  {
   "cell_type": "code",
   "execution_count": 54,
   "metadata": {},
   "outputs": [
    {
     "data": {
      "text/plain": [
       "0.9171483622350675"
      ]
     },
     "execution_count": 54,
     "metadata": {},
     "output_type": "execute_result"
    }
   ],
   "source": [
    "#testing model accuracy\n",
    "model.score(X_test,y_test)"
   ]
  },
  {
   "cell_type": "code",
   "execution_count": 55,
   "metadata": {},
   "outputs": [],
   "source": [
    "#predicting using test dataset\n",
    "y_predict = model.predict(X_test)"
   ]
  },
  {
   "cell_type": "code",
   "execution_count": 57,
   "metadata": {},
   "outputs": [
    {
     "name": "stdout",
     "output_type": "stream",
     "text": [
      "Model accuracy score with criterion gini index: 0.9171\n"
     ]
    }
   ],
   "source": [
    "from sklearn.metrics import accuracy_score\n",
    "\n",
    "print('Model accuracy score with criterion gini index: {0:0.4f}'. format(accuracy_score(y_test, y_predict)))"
   ]
  },
  {
   "cell_type": "code",
   "execution_count": 59,
   "metadata": {},
   "outputs": [
    {
     "data": {
      "text/plain": [
       "array(['unacc', 'unacc', 'unacc', ..., 'acc', 'vgood', 'unacc'],\n",
       "      dtype=object)"
      ]
     },
     "execution_count": 59,
     "metadata": {},
     "output_type": "execute_result"
    }
   ],
   "source": [
    "y_pred_train_gini = model.predict(X_train)\n",
    "\n",
    "y_pred_train_gini"
   ]
  },
  {
   "cell_type": "code",
   "execution_count": 60,
   "metadata": {},
   "outputs": [
    {
     "name": "stdout",
     "output_type": "stream",
     "text": [
      "Training-set accuracy score: 0.9329\n"
     ]
    }
   ],
   "source": [
    "print('Training-set accuracy score: {0:0.4f}'. format(accuracy_score(y_train, y_pred_train_gini)))"
   ]
  },
  {
   "cell_type": "code",
   "execution_count": 61,
   "metadata": {},
   "outputs": [
    {
     "data": {
      "text/plain": [
       "[Text(372.3576923076923, 407.7, 'X[3] <= 0.5\\ngini = 0.459\\nsamples = 1208\\nvalue = [269, 51, 844, 44]'),\n",
       " Text(355.1884615384615, 353.34000000000003, 'gini = 0.0\\nsamples = 405\\nvalue = [0, 0, 405, 0]'),\n",
       " Text(389.5269230769231, 353.34000000000003, 'X[5] <= 0.5\\ngini = 0.582\\nsamples = 803\\nvalue = [269, 51, 439, 44]'),\n",
       " Text(233.93076923076922, 298.98, 'X[1] <= 2.5\\ngini = 0.632\\nsamples = 268\\nvalue = [144, 23, 57, 44]'),\n",
       " Text(124.47692307692307, 244.62, 'X[0] <= 0.5\\ngini = 0.611\\nsamples = 204\\nvalue = [115, 23, 22, 44]'),\n",
       " Text(51.50769230769231, 190.26, 'X[2] <= 0.5\\ngini = 0.065\\nsamples = 59\\nvalue = [57, 0, 2, 0]'),\n",
       " Text(34.33846153846154, 135.89999999999998, 'X[4] <= 1.5\\ngini = 0.26\\nsamples = 13\\nvalue = [11, 0, 2, 0]'),\n",
       " Text(17.16923076923077, 81.54000000000002, 'gini = 0.0\\nsamples = 9\\nvalue = [9, 0, 0, 0]'),\n",
       " Text(51.50769230769231, 81.54000000000002, 'X[3] <= 1.5\\ngini = 0.5\\nsamples = 4\\nvalue = [2, 0, 2, 0]'),\n",
       " Text(34.33846153846154, 27.180000000000007, 'gini = 0.0\\nsamples = 2\\nvalue = [2, 0, 0, 0]'),\n",
       " Text(68.67692307692307, 27.180000000000007, 'gini = 0.0\\nsamples = 2\\nvalue = [0, 0, 2, 0]'),\n",
       " Text(68.67692307692307, 135.89999999999998, 'gini = 0.0\\nsamples = 46\\nvalue = [46, 0, 0, 0]'),\n",
       " Text(197.44615384615383, 190.26, 'X[0] <= 2.5\\ngini = 0.704\\nsamples = 145\\nvalue = [58, 23, 20, 44]'),\n",
       " Text(154.52307692307693, 135.89999999999998, 'X[4] <= 1.5\\ngini = 0.65\\nsamples = 94\\nvalue = [25, 23, 2, 44]'),\n",
       " Text(120.18461538461538, 81.54000000000002, 'X[4] <= 0.5\\ngini = 0.466\\nsamples = 63\\nvalue = [11, 8, 0, 44]'),\n",
       " Text(103.01538461538462, 27.180000000000007, 'gini = 0.128\\nsamples = 29\\nvalue = [2, 0, 0, 27]'),\n",
       " Text(137.35384615384615, 27.180000000000007, 'gini = 0.625\\nsamples = 34\\nvalue = [9, 8, 0, 17]'),\n",
       " Text(188.86153846153846, 81.54000000000002, 'X[1] <= 0.5\\ngini = 0.558\\nsamples = 31\\nvalue = [14, 15, 2, 0]'),\n",
       " Text(171.69230769230768, 27.180000000000007, 'gini = 0.18\\nsamples = 10\\nvalue = [9, 0, 1, 0]'),\n",
       " Text(206.03076923076924, 27.180000000000007, 'gini = 0.431\\nsamples = 21\\nvalue = [5, 15, 1, 0]'),\n",
       " Text(240.36923076923077, 135.89999999999998, 'X[1] <= 0.5\\ngini = 0.457\\nsamples = 51\\nvalue = [33, 0, 18, 0]'),\n",
       " Text(223.2, 81.54000000000002, 'gini = 0.0\\nsamples = 16\\nvalue = [0, 0, 16, 0]'),\n",
       " Text(257.53846153846155, 81.54000000000002, 'X[2] <= 0.5\\ngini = 0.108\\nsamples = 35\\nvalue = [33, 0, 2, 0]'),\n",
       " Text(240.36923076923077, 27.180000000000007, 'gini = 0.32\\nsamples = 10\\nvalue = [8, 0, 2, 0]'),\n",
       " Text(274.7076923076923, 27.180000000000007, 'gini = 0.0\\nsamples = 25\\nvalue = [25, 0, 0, 0]'),\n",
       " Text(343.38461538461536, 244.62, 'X[0] <= 0.5\\ngini = 0.496\\nsamples = 64\\nvalue = [29, 0, 35, 0]'),\n",
       " Text(326.2153846153846, 190.26, 'gini = 0.0\\nsamples = 19\\nvalue = [0, 0, 19, 0]'),\n",
       " Text(360.55384615384617, 190.26, 'X[0] <= 2.5\\ngini = 0.458\\nsamples = 45\\nvalue = [29, 0, 16, 0]'),\n",
       " Text(343.38461538461536, 135.89999999999998, 'X[2] <= 0.5\\ngini = 0.064\\nsamples = 30\\nvalue = [29, 0, 1, 0]'),\n",
       " Text(326.2153846153846, 81.54000000000002, 'X[4] <= 1.5\\ngini = 0.245\\nsamples = 7\\nvalue = [6, 0, 1, 0]'),\n",
       " Text(309.04615384615386, 27.180000000000007, 'gini = 0.0\\nsamples = 6\\nvalue = [6, 0, 0, 0]'),\n",
       " Text(343.38461538461536, 27.180000000000007, 'gini = 0.0\\nsamples = 1\\nvalue = [0, 0, 1, 0]'),\n",
       " Text(360.55384615384617, 81.54000000000002, 'gini = 0.0\\nsamples = 23\\nvalue = [23, 0, 0, 0]'),\n",
       " Text(377.7230769230769, 135.89999999999998, 'gini = 0.0\\nsamples = 15\\nvalue = [0, 0, 15, 0]'),\n",
       " Text(545.123076923077, 298.98, 'X[5] <= 1.5\\ngini = 0.433\\nsamples = 535\\nvalue = [125, 28, 382, 0]'),\n",
       " Text(527.9538461538461, 244.62, 'gini = 0.0\\nsamples = 262\\nvalue = [0, 0, 262, 0]'),\n",
       " Text(562.2923076923076, 244.62, 'X[4] <= 1.5\\ngini = 0.587\\nsamples = 273\\nvalue = [125, 28, 120, 0]'),\n",
       " Text(489.3230769230769, 190.26, 'X[1] <= 2.5\\ngini = 0.589\\nsamples = 173\\nvalue = [95, 28, 50, 0]'),\n",
       " Text(429.2307692307692, 135.89999999999998, 'X[0] <= 2.5\\ngini = 0.554\\nsamples = 127\\nvalue = [77, 28, 22, 0]'),\n",
       " Text(394.89230769230767, 81.54000000000002, 'X[1] <= 0.5\\ngini = 0.499\\nsamples = 90\\nvalue = [57, 28, 5, 0]'),\n",
       " Text(377.7230769230769, 27.180000000000007, 'gini = 0.064\\nsamples = 30\\nvalue = [29, 0, 1, 0]'),\n",
       " Text(412.0615384615385, 27.180000000000007, 'gini = 0.56\\nsamples = 60\\nvalue = [28, 28, 4, 0]'),\n",
       " Text(463.5692307692307, 81.54000000000002, 'X[1] <= 0.5\\ngini = 0.497\\nsamples = 37\\nvalue = [20, 0, 17, 0]'),\n",
       " Text(446.4, 27.180000000000007, 'gini = 0.0\\nsamples = 13\\nvalue = [0, 0, 13, 0]'),\n",
       " Text(480.73846153846154, 27.180000000000007, 'gini = 0.278\\nsamples = 24\\nvalue = [20, 0, 4, 0]'),\n",
       " Text(549.4153846153846, 135.89999999999998, 'X[0] <= 2.5\\ngini = 0.476\\nsamples = 46\\nvalue = [18, 0, 28, 0]'),\n",
       " Text(532.2461538461538, 81.54000000000002, 'X[0] <= 0.5\\ngini = 0.498\\nsamples = 34\\nvalue = [18, 0, 16, 0]'),\n",
       " Text(515.0769230769231, 27.180000000000007, 'gini = 0.0\\nsamples = 11\\nvalue = [0, 0, 11, 0]'),\n",
       " Text(549.4153846153846, 27.180000000000007, 'gini = 0.34\\nsamples = 23\\nvalue = [18, 0, 5, 0]'),\n",
       " Text(566.5846153846154, 81.54000000000002, 'gini = 0.0\\nsamples = 12\\nvalue = [0, 0, 12, 0]'),\n",
       " Text(635.2615384615384, 190.26, 'X[0] <= 2.5\\ngini = 0.42\\nsamples = 100\\nvalue = [30, 0, 70, 0]'),\n",
       " Text(618.0923076923077, 135.89999999999998, 'X[0] <= 0.5\\ngini = 0.48\\nsamples = 75\\nvalue = [30, 0, 45, 0]'),\n",
       " Text(600.9230769230769, 81.54000000000002, 'gini = 0.0\\nsamples = 23\\nvalue = [0, 0, 23, 0]'),\n",
       " Text(635.2615384615384, 81.54000000000002, 'X[1] <= 2.5\\ngini = 0.488\\nsamples = 52\\nvalue = [30, 0, 22, 0]'),\n",
       " Text(618.0923076923077, 27.180000000000007, 'gini = 0.393\\nsamples = 41\\nvalue = [30, 0, 11, 0]'),\n",
       " Text(652.4307692307692, 27.180000000000007, 'gini = 0.0\\nsamples = 11\\nvalue = [0, 0, 11, 0]'),\n",
       " Text(652.4307692307692, 135.89999999999998, 'gini = 0.0\\nsamples = 25\\nvalue = [0, 0, 25, 0]')]"
      ]
     },
     "execution_count": 61,
     "metadata": {},
     "output_type": "execute_result"
    },
    {
     "data": {
      "image/png": "[encoded data removed]",
      "text/plain": [
       "<Figure size 864x576 with 1 Axes>"
      ]
     },
     "metadata": {
      "needs_background": "light"
     },
     "output_type": "display_data"
    }
   ],
   "source": [
    "plt.figure(figsize=(12,8))\n",
    "\n",
    "from sklearn import tree\n",
    "\n",
    "tree.plot_tree(model.fit(X_train, y_train)) "
   ]
  }
 ],
 "metadata": {
  "kernelspec": {
   "display_name": "Python 3",
   "language": "python",
   "name": "python3"
  },
  "language_info": {
   "codemirror_mode": {
    "name": "ipython",
    "version": 3
   },
   "file_extension": ".py",
   "mimetype": "text/x-python",
   "name": "python",
   "nbconvert_exporter": "python",
   "pygments_lexer": "ipython3",
   "version": "3.8.5"
  }
 },
 "nbformat": 4,
 "nbformat_minor": 4
}
